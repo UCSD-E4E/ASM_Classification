{
 "cells": [
  {
   "cell_type": "code",
   "execution_count": 13,
   "metadata": {},
   "outputs": [],
   "source": [
    "import pandas as pd\n",
    "from sklearn.model_selection import train_test_split"
   ]
  },
  {
   "cell_type": "code",
   "execution_count": 14,
   "metadata": {},
   "outputs": [],
   "source": [
    "df = pd.read_csv('/home/behe/ASM_Classification/data_csv/pic_label.csv')"
   ]
  },
  {
   "cell_type": "code",
   "execution_count": 15,
   "metadata": {},
   "outputs": [],
   "source": [
    "df.to_csv('/mnt/aye-aye-sleep-monitoring/demo_data/may/Test.csv')"
   ]
  },
  {
   "cell_type": "code",
   "execution_count": 16,
   "metadata": {},
   "outputs": [],
   "source": [
    "train, test = train_test_split(df, test_size=0.2, random_state=1)\n",
    "train, val = train_test_split(train, test_size=0.25, random_state=1)"
   ]
  },
  {
   "cell_type": "code",
   "execution_count": 17,
   "metadata": {},
   "outputs": [],
   "source": [
    "train.to_csv('./Train.csv')\n",
    "val.to_csv('./Validation.csv')\n",
    "test.to_csv('./Test.csv')"
   ]
  },
  {
   "cell_type": "code",
   "execution_count": 12,
   "metadata": {},
   "outputs": [],
   "source": [
    "df = pd.read_csv('/mnt/aye-aye-sleep-monitoring/demo_data/may/pic_label.csv')\n",
    "df.to_csv('/mnt/aye-aye-sleep-monitoring/demo_data/may/Test.csv')"
   ]
  }
 ],
 "metadata": {
  "interpreter": {
   "hash": "259e67eeac5ad549bc274c63300256b6814246952279bca6d0297eca52d14ba4"
  },
  "kernelspec": {
   "display_name": "Python 3.8.10 ('ayay': venv)",
   "language": "python",
   "name": "python3"
  },
  "language_info": {
   "codemirror_mode": {
    "name": "ipython",
    "version": 3
   },
   "file_extension": ".py",
   "mimetype": "text/x-python",
   "name": "python",
   "nbconvert_exporter": "python",
   "pygments_lexer": "ipython3",
   "version": "3.8.10"
  },
  "orig_nbformat": 4
 },
 "nbformat": 4,
 "nbformat_minor": 2
}
