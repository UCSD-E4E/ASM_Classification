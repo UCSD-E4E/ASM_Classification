{
 "cells": [
  {
   "cell_type": "code",
   "execution_count": 21,
   "metadata": {},
   "outputs": [],
   "source": [
    "import pandas as pd\n",
    "from datetime import datetime\n",
    "from datetime import date\n",
    "import numpy as np\n",
    "import math"
   ]
  },
  {
   "cell_type": "code",
   "execution_count": 22,
   "metadata": {},
   "outputs": [],
   "source": [
    "TIME_PATH = '/mnt/aye-aye-sleep-monitoring/demo_data/may/pic_timestamp.csv'\n",
    "LABLE_PATH = '/home/behe/ASM_Classification/output/postprocessing_output_change.csv'"
   ]
  },
  {
   "cell_type": "code",
   "execution_count": 23,
   "metadata": {},
   "outputs": [],
   "source": [
    "ts = pd.read_csv(TIME_PATH)\n",
    "prediction_result = pd.read_csv(LABLE_PATH)"
   ]
  },
  {
   "cell_type": "code",
   "execution_count": null,
   "metadata": {},
   "outputs": [],
   "source": []
  },
  {
   "cell_type": "code",
   "execution_count": 24,
   "metadata": {},
   "outputs": [],
   "source": [
    "time_base_csv = datetime.strptime(ts.iloc[0,1],\"%Y-%m-%dT%H:%M:%S\")\n",
    "time_base_video = datetime.strptime(\"00 00 00.000\", \"%H %M %S.%f\")\n",
    "# time_se = datetime.strptime(ts.iloc[1,1],\"%Y-%m-%dT%H:%M:%S.%f\")"
   ]
  },
  {
   "cell_type": "code",
   "execution_count": 25,
   "metadata": {},
   "outputs": [
    {
     "data": {
      "text/plain": [
       "(0, 0, 0, 0)"
      ]
     },
     "execution_count": 25,
     "metadata": {},
     "output_type": "execute_result"
    }
   ],
   "source": [
    "time_base_video.hour, time_base_video.second, time_base_video.second,time_base_video.microsecond"
   ]
  },
  {
   "cell_type": "code",
   "execution_count": 26,
   "metadata": {},
   "outputs": [
    {
     "data": {
      "text/plain": [
       "(datetime.datetime(2022, 3, 25, 16, 0), 16, 0, 0, 0)"
      ]
     },
     "execution_count": 26,
     "metadata": {},
     "output_type": "execute_result"
    }
   ],
   "source": [
    "time_base_csv, time_base_csv.hour, time_base_csv.second, time_base_csv.second,time_base_csv.microsecond"
   ]
  },
  {
   "cell_type": "code",
   "execution_count": null,
   "metadata": {},
   "outputs": [],
   "source": []
  },
  {
   "cell_type": "code",
   "execution_count": 27,
   "metadata": {},
   "outputs": [],
   "source": [
    "result_list = [] # [time, label]\n",
    "for i in prediction_result.itertuples():\n",
    "  cts = i.timestamp\n",
    "  if \".\" in cts:\n",
    "    curr_time_csv = datetime.strptime(cts,\"%Y-%m-%dT%H:%M:%S.%f\")\n",
    "  else:\n",
    "    curr_time_csv = datetime.strptime(cts,\"%Y-%m-%dT%H:%M:%S\")\n",
    "  delta_time = curr_time_csv - time_base_csv\n",
    "  new_video_time = time_base_video + delta_time\n",
    "  entry =  \"00:\" + \\\n",
    "    format(new_video_time.minute,'02d')+\":\" + \\\n",
    "    format(math.ceil(new_video_time.second),'02d') + \",\"  + \\\n",
    "    format(math.ceil(new_video_time.microsecond/1000),'03d')\n",
    "  label = i.label\n",
    "  result_list.append((entry,label))\n"
   ]
  },
  {
   "cell_type": "code",
   "execution_count": 28,
   "metadata": {},
   "outputs": [],
   "source": [
    "result_list.append((\"00:01:30,000\",0))"
   ]
  },
  {
   "cell_type": "code",
   "execution_count": 29,
   "metadata": {},
   "outputs": [
    {
     "data": {
      "text/plain": [
       "[('00:00:00,000', 0),\n",
       " ('00:00:25,800', 1),\n",
       " ('00:00:25,834', 0),\n",
       " ('00:01:03,434', 1),\n",
       " ('00:01:03,500', 0),\n",
       " ('00:01:15,534', 1),\n",
       " ('00:01:15,567', 0),\n",
       " ('00:01:15,600', 1),\n",
       " ('00:01:15,634', 0),\n",
       " ('00:01:15,667', 1),\n",
       " ('00:01:15,700', 0),\n",
       " ('00:01:15,834', 1),\n",
       " ('00:01:15,867', 0),\n",
       " ('00:01:15,900', 1),\n",
       " ('00:01:15,934', 0),\n",
       " ('00:01:15,967', 1),\n",
       " ('00:01:16,000', 0),\n",
       " ('00:01:16,034', 1),\n",
       " ('00:01:16,100', 0),\n",
       " ('00:01:16,134', 1),\n",
       " ('00:01:16,167', 0),\n",
       " ('00:01:18,000', 1),\n",
       " ('00:01:20,000', 0),\n",
       " ('00:01:20,300', 1),\n",
       " ('00:01:20,334', 0),\n",
       " ('00:01:20,634', 1),\n",
       " ('00:01:20,767', 0),\n",
       " ('00:01:20,800', 1),\n",
       " ('00:01:20,834', 0),\n",
       " ('00:02:00,467', 1),\n",
       " ('00:03:50,067', 0),\n",
       " ('00:03:54,000', 1),\n",
       " ('00:03:54,034', 0),\n",
       " ('00:01:30,000', 0)]"
      ]
     },
     "execution_count": 29,
     "metadata": {},
     "output_type": "execute_result"
    }
   ],
   "source": [
    "result_list"
   ]
  },
  {
   "cell_type": "code",
   "execution_count": 30,
   "metadata": {},
   "outputs": [],
   "source": [
    "counter = 1\n",
    "with open('predicted.srt', 'a') as f:\n",
    "    \n",
    "  for i in range(len(result_list) - 1):\n",
    "    f.write(str(counter) + '\\n')\n",
    "    time_range = result_list[i][0] + \" --> \" + result_list[i+1][0]\n",
    "    f.write(time_range + '\\n')\n",
    "    content = result_list[i][1]\n",
    "    f.write(str(content) + '\\n')\n",
    "    f.write('\\n')\n",
    "\n",
    "    "
   ]
  },
  {
   "cell_type": "code",
   "execution_count": null,
   "metadata": {},
   "outputs": [],
   "source": []
  }
 ],
 "metadata": {
  "interpreter": {
   "hash": "be0086fee41a4f94f6455965adcc68c70049f01cf80ab1242476fd26242ec2ee"
  },
  "kernelspec": {
   "display_name": "Python 3.5.6 ('bot': conda)",
   "language": "python",
   "name": "python3"
  },
  "language_info": {
   "codemirror_mode": {
    "name": "ipython",
    "version": 3
   },
   "file_extension": ".py",
   "mimetype": "text/x-python",
   "name": "python",
   "nbconvert_exporter": "python",
   "pygments_lexer": "ipython3",
   "version": "3.7.13"
  },
  "orig_nbformat": 4
 },
 "nbformat": 4,
 "nbformat_minor": 2
}
