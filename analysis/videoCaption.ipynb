{
 "cells": [
  {
   "cell_type": "code",
   "execution_count": 31,
   "metadata": {},
   "outputs": [],
   "source": [
    "import pandas as pd\n",
    "from datetime import datetime\n",
    "from datetime import date\n",
    "import numpy as np\n",
    "import math"
   ]
  },
  {
   "cell_type": "code",
   "execution_count": 32,
   "metadata": {},
   "outputs": [],
   "source": [
    "TIME_PATH = '/home/burrowingowl/asm-nas/demo_data/pic_timestamp.csv'\n",
    "VIDEO_PATH = '/home/burrowingowl/asm-nas/demo_data/2022.03.25.09.00.00.mp4'\n",
    "LABLE_PATH = '/home/burrowingowl/ASM_Classification/data/postprocessing_output_change.csv'"
   ]
  },
  {
   "cell_type": "code",
   "execution_count": 33,
   "metadata": {},
   "outputs": [],
   "source": [
    "ts = pd.read_csv(TIME_PATH)\n",
    "prediction_result = pd.read_csv(LABLE_PATH)"
   ]
  },
  {
   "cell_type": "code",
   "execution_count": 34,
   "metadata": {},
   "outputs": [],
   "source": [
    "time_base_csv = datetime.strptime(ts.iloc[0,1],\"%Y-%m-%dT%H:%M:%S\")\n",
    "time_base_video = datetime.strptime(\"00 00 00.000\", \"%H %M %S.%f\")\n",
    "# time_se = datetime.strptime(ts.iloc[1,1],\"%Y-%m-%dT%H:%M:%S.%f\")"
   ]
  },
  {
   "cell_type": "code",
   "execution_count": 35,
   "metadata": {},
   "outputs": [
    {
     "data": {
      "text/plain": [
       "(0, 0, 0, 0)"
      ]
     },
     "execution_count": 35,
     "metadata": {},
     "output_type": "execute_result"
    }
   ],
   "source": [
    "time_base_video.hour, time_base_video.second, time_base_video.second,time_base_video.microsecond"
   ]
  },
  {
   "cell_type": "code",
   "execution_count": 36,
   "metadata": {},
   "outputs": [
    {
     "data": {
      "text/plain": [
       "(datetime.datetime(2022, 3, 25, 16, 0), 16, 0, 0, 0)"
      ]
     },
     "execution_count": 36,
     "metadata": {},
     "output_type": "execute_result"
    }
   ],
   "source": [
    "time_base_csv, time_base_csv.hour, time_base_csv.second, time_base_csv.second,time_base_csv.microsecond"
   ]
  },
  {
   "cell_type": "code",
   "execution_count": null,
   "metadata": {},
   "outputs": [],
   "source": []
  },
  {
   "cell_type": "code",
   "execution_count": 37,
   "metadata": {},
   "outputs": [],
   "source": [
    "result_list = [] # [time, label]\n",
    "for i in prediction_result.itertuples():\n",
    "  cts = i.timestamp\n",
    "  if \".\" in cts:\n",
    "    curr_time_csv = datetime.strptime(cts,\"%Y-%m-%dT%H:%M:%S.%f\")\n",
    "  else:\n",
    "    curr_time_csv = datetime.strptime(cts,\"%Y-%m-%dT%H:%M:%S\")\n",
    "  delta_time = curr_time_csv - time_base_csv\n",
    "  new_video_time = time_base_video + delta_time\n",
    "  entry =  \"00:\" + \\\n",
    "    format(new_video_time.minute,'02d')+\":\" + \\\n",
    "    format(math.ceil(new_video_time.second),'02d') + \",\"  + \\\n",
    "    format(math.ceil(new_video_time.microsecond/1000),'03d')\n",
    "  label = i.label\n",
    "  result_list.append((entry,label))\n"
   ]
  },
  {
   "cell_type": "code",
   "execution_count": 38,
   "metadata": {},
   "outputs": [],
   "source": [
    "result_list.append((\"00:01:30,000\",0))"
   ]
  },
  {
   "cell_type": "code",
   "execution_count": 39,
   "metadata": {},
   "outputs": [
    {
     "data": {
      "text/plain": [
       "[('00:00:00,000', 0),\n",
       " ('00:00:10,267', 1),\n",
       " ('00:00:10,300', 0),\n",
       " ('00:00:10,467', 1),\n",
       " ('00:00:10,500', 0),\n",
       " ('00:00:10,800', 1),\n",
       " ('00:00:10,834', 0),\n",
       " ('00:00:10,900', 1),\n",
       " ('00:00:10,967', 0),\n",
       " ('00:00:11,034', 1),\n",
       " ('00:00:11,100', 0),\n",
       " ('00:00:11,167', 1),\n",
       " ('00:00:11,334', 0),\n",
       " ('00:00:11,834', 1),\n",
       " ('00:01:03,634', 0),\n",
       " ('00:01:03,700', 1),\n",
       " ('00:01:20,067', 0),\n",
       " ('00:01:30,000', 0)]"
      ]
     },
     "execution_count": 39,
     "metadata": {},
     "output_type": "execute_result"
    }
   ],
   "source": [
    "result_list"
   ]
  },
  {
   "cell_type": "code",
   "execution_count": 40,
   "metadata": {},
   "outputs": [],
   "source": [
    "counter = 1\n",
    "with open('predicted.srt', 'a') as f:\n",
    "    \n",
    "  for i in range(len(result_list) - 1):\n",
    "    f.write(str(counter) + '\\n')\n",
    "    time_range = result_list[i][0] + \" --> \" + result_list[i+1][0]\n",
    "    f.write(time_range + '\\n')\n",
    "    content = result_list[i][1]\n",
    "    f.write(str(content) + '\\n')\n",
    "    f.write('\\n')\n",
    "\n",
    "    "
   ]
  },
  {
   "cell_type": "code",
   "execution_count": null,
   "metadata": {},
   "outputs": [],
   "source": []
  }
 ],
 "metadata": {
  "interpreter": {
   "hash": "be0086fee41a4f94f6455965adcc68c70049f01cf80ab1242476fd26242ec2ee"
  },
  "kernelspec": {
   "display_name": "Python 3.5.6 ('bot': conda)",
   "language": "python",
   "name": "python3"
  },
  "language_info": {
   "codemirror_mode": {
    "name": "ipython",
    "version": 3
   },
   "file_extension": ".py",
   "mimetype": "text/x-python",
   "name": "python",
   "nbconvert_exporter": "python",
   "pygments_lexer": "ipython3",
   "version": "3.6.13"
  },
  "orig_nbformat": 4
 },
 "nbformat": 4,
 "nbformat_minor": 2
}
