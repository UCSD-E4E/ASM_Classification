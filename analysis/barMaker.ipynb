{
 "cells": [
  {
   "cell_type": "code",
   "execution_count": 15,
   "metadata": {},
   "outputs": [],
   "source": [
    "import pandas as pd\n",
    "import matplotlib.pyplot as plt\n",
    "\n",
    "GROUND_TRUTH_CSV = '/mnt/aye-aye-sleep-monitoring/demo_data/may/pic_label.csv'\n",
    "PREDICTION_TRUTH_CSV = '/home/behe/ASM_Classification/output/M3_May_Demo.csv'\n",
    "\n",
    "# Read CSV\n",
    "groundTruthData = pd.read_csv(GROUND_TRUTH_CSV)\n",
    "predictionData = pd.read_csv(PREDICTION_TRUTH_CSV)"
   ]
  },
  {
   "cell_type": "code",
   "execution_count": 16,
   "metadata": {},
   "outputs": [],
   "source": [
    "\n",
    "# Split CSV so Frame Number gets in it's own column\n",
    "groundTruthData[['splitText', 'frameNumberJPG']\n",
    "                ] = groundTruthData.pic_name.str.split(\"frame_\", expand=True)\n",
    "groundTruthData[['frameNumber', 'JPG']\n",
    "                ] = groundTruthData.frameNumberJPG.str.split(\".jpg\", expand=True)\n",
    "predictionData[['splitText', 'frameNumberJPG']\n",
    "               ] = predictionData.pic_name.str.split(\"frame_\", expand=True)\n",
    "predictionData[['frameNumber', 'JPG']\n",
    "               ] = predictionData.frameNumberJPG.str.split(\".jpg\", expand=True)\n",
    "\n",
    "# Convert to number type and Sort by Frame Number\n",
    "groundTruthData[\"frameNumber\"] = pd.to_numeric(groundTruthData[\"frameNumber\"])\n",
    "predictionData[\"frameNumber\"] = pd.to_numeric(predictionData[\"frameNumber\"])\n",
    "groundTruthData = groundTruthData.sort_values(by=['frameNumber'])\n",
    "predictionData = predictionData.sort_values(by=['frameNumber'])\n",
    "\n",
    "# 3 means out of frame so label should be 0\n",
    "# 2 means in frame so label should be 1\n",
    "groundTruthData.loc[groundTruthData[\"label\"] == 3, 'label'] = 0\n",
    "groundTruthData.loc[groundTruthData[\"label\"] == 2, 'label'] = 1"
   ]
  },
  {
   "cell_type": "code",
   "execution_count": 17,
   "metadata": {},
   "outputs": [
    {
     "data": {
      "image/png": "[encoded data removed]",
      "text/plain": [
       "<Figure size 720x720 with 1 Axes>"
      ]
     },
     "metadata": {
      "needs_background": "light"
     },
     "output_type": "display_data"
    }
   ],
   "source": [
    "# Plot the graph\n",
    "fig = plt.figure(figsize=(10, 10))\n",
    "ax1 = fig.add_subplot(111)\n",
    "ax1.scatter(groundTruthData['frameNumber'], groundTruthData['label'],\n",
    "            c='b', label='Ground Truth', alpha=0.3)\n",
    "ax1.scatter(predictionData['frameNumber'], predictionData['label'],\n",
    "            c='r', label='Prediction', alpha=0.05)\n",
    "plt.yticks([0, 1], ['Out-frame', 'In-frame'])\n",
    "plt.xlabel(\"Frame Number\")\n",
    "plt.title(\"Comparison for \" + groundTruthData['splitText'][0])\n",
    "plt.legend()\n",
    "plt.show()"
   ]
  },
  {
   "cell_type": "code",
   "execution_count": null,
   "metadata": {},
   "outputs": [],
   "source": []
  }
 ],
 "metadata": {
  "interpreter": {
   "hash": "259e67eeac5ad549bc274c63300256b6814246952279bca6d0297eca52d14ba4"
  },
  "kernelspec": {
   "display_name": "Python 3.8.10 ('ayay': venv)",
   "language": "python",
   "name": "python3"
  },
  "language_info": {
   "codemirror_mode": {
    "name": "ipython",
    "version": 3
   },
   "file_extension": ".py",
   "mimetype": "text/x-python",
   "name": "python",
   "nbconvert_exporter": "python",
   "pygments_lexer": "ipython3",
   "version": "3.8.10"
  },
  "orig_nbformat": 4
 },
 "nbformat": 4,
 "nbformat_minor": 2
}
